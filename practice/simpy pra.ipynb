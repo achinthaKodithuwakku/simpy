{
 "cells": [
  {
   "cell_type": "markdown",
   "id": "4a4cd738",
   "metadata": {},
   "source": [
    "An example: a urgent care call sample\n",
    "This case study uses a simple model of an urgent care telephone call centre, similar to the NHS 111 service in the UK. To learn simpy we will first build a very simple model. In our first iteration of this model, calls to the centre arrive deterministically. For now we will ignore resources and activities in the model and just model a deterministic arrival process. The simulation time units are in minutes. Let's assume there are 60 new callers per hour (an fixed inter-arrival time of 1.0 per minute)."
   ]
  },
  {
   "cell_type": "markdown",
   "id": "3487956d",
   "metadata": {},
   "source": [
    "Step by Step\n",
    "\n",
    "# simpy has process based worldview. These processes take place in an environment. You can create a environment with the following line of code:\n",
    "\n",
    "env = simpy.Environment()\n",
    "\n",
    "# We can introduce delays or activities into a process. For example these might be the duration of a stay on a ward, or the duration of a operation - or, in this case, a delay between arrivals (inter-arrival time). In simpy you control this with the following method:(60/60 caller per minute)\n",
    "\n",
    "env.timeout(1.0)\n",
    "\n",
    "# Generators\n",
    "  # The events in the DES are modelled and scheduled in simpy using python generators (i.e. they are the \"event-processing mechanism\"). A generator is a function that behaves like an iterator, meaning it can yield a sequence of values when iterated over.  \n",
    "\n",
    "  # For example, below is a basic generator function that yields a new arrival every 1 minute. It takes the environment as a parameter. It then internally calls the env.timeout() method in an infinite loop.\n",
    "\n",
    "def arrivals_generator(env):\n",
    "    while True:\n",
    "        yield env.timeout(1.0)   \n",
    "\n",
    "# SimPy process and run\n",
    "Once we have coded the model logic and created an environment instance, there are two remaining instructions we need to code.\n",
    "\n",
    "1. Set the generator up as a SimPy process using env.process()\n",
    "  env.process(arrivals_generator(env))\n",
    "\n",
    "2. Run the environment for a user specified run length using env.run()\n",
    "  env.run(until=25)\n",
    "  \n",
    "The run method handle the infinite loop we set up in arrivals_generator. The simulation model has an internal concept of time. It will end execution when its internal clock reaches 25 time units."
   ]
  },
  {
   "cell_type": "code",
   "execution_count": 5,
   "id": "f1c1cdfe",
   "metadata": {},
   "outputs": [
    {
     "name": "stdout",
     "output_type": "stream",
     "text": [
      "Call arrives at: 1.0\n",
      "Call arrives at: 2.0\n",
      "Call arrives at: 3.0\n",
      "Call arrives at: 4.0\n",
      "Call arrives at: 5.0\n",
      "Call arrives at: 6.0\n",
      "Call arrives at: 7.0\n",
      "Call arrives at: 8.0\n",
      "Call arrives at: 9.0\n",
      "Call arrives at: 10.0\n",
      "Call arrives at: 11.0\n",
      "Call arrives at: 12.0\n",
      "Call arrives at: 13.0\n",
      "Call arrives at: 14.0\n",
      "Call arrives at: 15.0\n",
      "Call arrives at: 16.0\n",
      "Call arrives at: 17.0\n",
      "Call arrives at: 18.0\n",
      "Call arrives at: 19.0\n",
      "Call arrives at: 20.0\n",
      "Call arrives at: 21.0\n",
      "Call arrives at: 22.0\n",
      "Call arrives at: 23.0\n",
      "Call arrives at: 24.0\n",
      "End of run, Simulation ended at: 25\n"
     ]
    }
   ],
   "source": [
    "import simpy\n",
    "\n",
    "def arrivals_generator(env):\n",
    "    '''\n",
    "    Callers arrive with a fixed inter-arrival time of 1.0 minutes (60 min/60 callers).\n",
    "\n",
    "    Parameters:\n",
    "    ------\n",
    "    env: simpy.Environment\n",
    "    '''\n",
    "    \n",
    "    # don't worry about the infinite while loop, simpy will\n",
    "    # exit at the correct time.\n",
    "    while True:\n",
    "        \n",
    "        # sample an inter-arrival time.\n",
    "        inter_arrival_time = 1.0\n",
    "        \n",
    "        # we use the yield keyword instead of return\n",
    "        yield env.timeout(inter_arrival_time)\n",
    "        \n",
    "        # print out the time of the arrival\n",
    "        print(f'Call arrives at: {env.now}')\n",
    "\n",
    "# Now that we have our generator function we can setup the environment, process and call run. We will create a RUN_LENGTH parameter that you can change to run the model for different time lengths.        \n",
    "RUN_LENGTH = 25  # in minutes\n",
    "\n",
    "# create the simpy environment\n",
    "env = simpy.Environment()\n",
    "\n",
    "# create the arrival process\n",
    "env.process(arrivals_generator(env))\n",
    "\n",
    "# run the simulation\n",
    "env.run(until=RUN_LENGTH)\n",
    "print(f'End of run, Simulation ended at: {env.now}')"
   ]
  }
 ],
 "metadata": {
  "kernelspec": {
   "display_name": "Python 3",
   "language": "python",
   "name": "python3"
  },
  "language_info": {
   "codemirror_mode": {
    "name": "ipython",
    "version": 3
   },
   "file_extension": ".py",
   "mimetype": "text/x-python",
   "name": "python",
   "nbconvert_exporter": "python",
   "pygments_lexer": "ipython3",
   "version": "3.14.0"
  }
 },
 "nbformat": 4,
 "nbformat_minor": 5
}
