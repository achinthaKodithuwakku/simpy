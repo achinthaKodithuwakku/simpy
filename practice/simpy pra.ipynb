{
 "cells": [
  {
   "cell_type": "code",
   "execution_count": null,
   "id": "10fa1bbb",
   "metadata": {},
   "outputs": [],
   "source": [
    "import simpy"
   ]
  },
  {
   "cell_type": "markdown",
   "id": "4a4cd738",
   "metadata": {},
   "source": [
    "An example: a urgent care call sample\n",
    "This case study uses a simple model of an urgent care telephone call centre, similar to the NHS 111 service in the UK. To learn simpy we will first build a very simple model. In our first iteration of this model, calls to the centre arrive deterministically. For now we will ignore resources and activities in the model and just model a deterministic arrival process. The simulation time units are in minutes. Let's assume there are 60 new callers per hour (an fixed inter-arrival time of 1.0 per minute)."
   ]
  },
  {
   "cell_type": "code",
   "execution_count": null,
   "id": "49e7051b",
   "metadata": {},
   "outputs": [],
   "source": [
    "# simpy has process based worldview. These processes take place in an environment. You can create a environment with the following line of code:\n",
    "\n",
    "env = simpy.Environment()\n",
    "\n",
    "# We can introduce delays or activities into a process. For example these might be the duration of a stay on a ward, or the duration of a operation - or, in this case, a delay between arrivals (inter-arrival time). In simpy you control this with the following method:(60/60 caller per minute)\n",
    "\n",
    "env.timeout(1.0)"
   ]
  }
 ],
 "metadata": {
  "kernelspec": {
   "display_name": "Python 3",
   "language": "python",
   "name": "python3"
  },
  "language_info": {
   "codemirror_mode": {
    "name": "ipython",
    "version": 3
   },
   "file_extension": ".py",
   "mimetype": "text/x-python",
   "name": "python",
   "nbconvert_exporter": "python",
   "pygments_lexer": "ipython3",
   "version": "3.14.0"
  }
 },
 "nbformat": 4,
 "nbformat_minor": 5
}
